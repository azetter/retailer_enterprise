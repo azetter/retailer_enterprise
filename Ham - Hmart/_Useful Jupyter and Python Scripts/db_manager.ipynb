{
 "cells": [
  {
   "cell_type": "code",
   "execution_count": 3,
   "metadata": {},
   "outputs": [
    {
     "ename": "ImportError",
     "evalue": "No module named MySQLdb",
     "traceback": [
      "\u001b[0;31m---------------------------------------------------------------------------\u001b[0m",
      "\u001b[0;31mImportError\u001b[0m                               Traceback (most recent call last)",
      "\u001b[0;32m<ipython-input-3-e86de108464e>\u001b[0m in \u001b[0;36m<module>\u001b[0;34m()\u001b[0m\n\u001b[1;32m      1\u001b[0m \u001b[0;31m#!/usr/bin/python\u001b[0m\u001b[0;34m\u001b[0m\u001b[0;34m\u001b[0m\u001b[0m\n\u001b[0;32m----> 2\u001b[0;31m \u001b[0;32mimport\u001b[0m \u001b[0mMySQLdb\u001b[0m\u001b[0;34m\u001b[0m\u001b[0m\n\u001b[0m\u001b[1;32m      3\u001b[0m \u001b[0;32mimport\u001b[0m \u001b[0mnumpy\u001b[0m \u001b[0;32mas\u001b[0m \u001b[0mnp\u001b[0m\u001b[0;34m\u001b[0m\u001b[0m\n\u001b[1;32m      4\u001b[0m \u001b[0;34m\u001b[0m\u001b[0m\n\u001b[1;32m      5\u001b[0m \u001b[0;31m# Numpy arrays to store things\u001b[0m\u001b[0;34m\u001b[0m\u001b[0;34m\u001b[0m\u001b[0m\n",
      "\u001b[0;31mImportError\u001b[0m: No module named MySQLdb"
     ],
     "output_type": "error"
    }
   ],
   "source": [
    "#!/usr/bin/python\n",
    "import MySQLdb\n",
    "import numpy as np  \n",
    "\n",
    "# Numpy arrays to store things \n",
    "upc_arr = np.array([],dtype=int)\n",
    "transactions = np.array([], dtype=int)\n",
    "\n",
    "# connect to database and post any relevant errors\n",
    "try:\n",
    "    db = MySQLdb.connect(host=\"coffee-gave-me-gas.cgzqmhf3sjbn.us-east-2.rds.amazonaws.com\",    # your host, usually localhost\n",
    "                        user=\"root\",         # your username\n",
    "                        password=\"csc4112018\",  # your password\n",
    "                        db=\"projectcoffee\")        # name of the data base\n",
    "            \n",
    "    # you must create a Cursor object. It will let\n",
    "    #  you execute all the queries you need\n",
    "    cur = db.cursor()\n",
    "\n",
    "    # Use all the SQL you like\n",
    "    cur.execute(\"SELECT productUPC FROM product\")\n",
    "    \n",
    "    # print all the first cell of all the rows\n",
    "    for productUPC in cur:\n",
    "        upc = str(productUPC)[1:-2]\n",
    "        upc_arr = np.append(upc_arr, upc)\n",
    "\n",
    "    #db.close()\n",
    "except Exception as e:\n",
    "    print(\"Failed to connect to database...\", \"Error:\", e)\n",
    "\n"
   ]
  },
  {
   "cell_type": "code",
   "execution_count": 27,
   "metadata": {},
   "outputs": [],
   "source": [
    "# What are the 20 top-selling products at each store? \n",
    "def query1():\n",
    "    cur.execute(\"\"\"select Rank, productName as Product, units as 'Units Sold', storeName as Store\n",
    "from (select product_ID as upc, amountSold as units_sold, store_ID, storeName,\n",
    "\t\t\t-- Leveraged mysql session variables to track ranking \n",
    "\t\t\t-- If the store_ID is = to the previous one than increase the rank, otherwise start back at 1\n",
    "\t\t\t  @cur_rank := IF(@store = store_ID, @cur_rank + 1, 1) as Rank, \n",
    "              @store := store_ID,\n",
    "              @units := amountSold as units  \n",
    "\t\t\t\t-- In order to get the correct ranking order a Subquery of each stores products sales in descending order is needed\n",
    "\t\t\t\tfrom  (\tselect product_ID, amountSold, store_ID, storeName \t\t\t\t\t \n",
    "\t\t\t\t\t\t\tfrom sales inner join store on store.ID = sales.store_ID\n",
    "\t\t\t\t\t\t\torder by store_ID, amountSold desc) as top_items\n",
    ") as rankings inner join product on upc = product.ID\n",
    "-- Cap the ranking at the top 20 items\n",
    "where rank <= 20\"\"\")\n",
    "\n",
    "    for rank, name, units, store in cur:\n",
    "        n = name[1:-2]\n",
    "    #     p = price[1:-2]\n",
    "        r = rank\n",
    "        r = int(r)\n",
    "        print(r, n, units, store)\n",
    "\n",
    "# What are the 20 top-selling products in each state?\n",
    "def query2():\n",
    "    cur.execute(\"\"\" select Rank, productName as Product, units as 'Units Sold', storeState as State\n",
    "from (select product_ID as upc, amountSold as units_sold, store_ID, storeState,\n",
    "\t\t\t-- Leveraged mysql session variables to track ranking \n",
    "\t\t\t-- If the storeStae is = to the previous one than increase the rank, otherwise start back at 1\n",
    "\t\t\t  @cur_rank := IF(@cur_state = storeState, @cur_rank + 1, 1) as Rank, \n",
    "              @cur_state := storeState,\n",
    "              @units := amountSold as units  \n",
    "\t\t\t\t-- In order to get the correct ranking order a Subquery that orders by State and amount sold in descending order is needed\n",
    "\t\t\t\tfrom  (\tselect product_ID, amountSold, store_ID, storeState\n",
    "\t\t\t\t\t\t\tfrom sales inner join store on store.ID = sales.store_ID\n",
    "\t\t\t\t\t\t\torder by storeState, amountSold desc) as top_items\n",
    ") as rankings inner join product on upc = product.ID\n",
    "-- Cap the ranking at the top 20 items\n",
    "where rank <= 20\"\"\")\n",
    "\n",
    "    for rank, name,units, state in cur:\n",
    "        n = name[1:-2]\n",
    "        s = state\n",
    "        r = rank\n",
    "        r = int(r)\n",
    "        print(r, n, units ,s)\n",
    "\n",
    "# Which 5 stores have the most sales\n",
    "def query3():\n",
    "    cur.execute(\"\"\" select storeName as Store, sum(amountSold) as 'Total Sales'\n",
    "from sales inner join store on store.ID = sales.store_ID\n",
    "group by store_ID -- Allows the aggreate function sum based on each store to occur\n",
    "order by sum(amountSold) desc -- Order the results from largest to smallest\n",
    "limit 5\t-- Return only the top 5\n",
    " \"\"\")\n",
    "\n",
    "    for store, units in cur:\n",
    "        print(store, units)"
   ]
  },
  {
   "cell_type": "code",
   "execution_count": 28,
   "metadata": {},
   "outputs": [
    {
     "name": "stdout",
     "output_type": "stream",
     "text": [
      "Hmart 24 97016\n",
      "Hmart 38 69995\n",
      "Hmart 42 65330\n",
      "Hmart 22 64744\n",
      "Hmart 65 59567\n"
     ]
    }
   ],
   "source": [
    "x = query3()"
   ]
  },
  {
   "cell_type": "code",
   "execution_count": 6,
   "metadata": {},
   "outputs": [],
   "source": [
    "#save_prices(sale_amount)\n",
    "db.close()"
   ]
  }
 ],
 "metadata": {
  "kernelspec": {
   "display_name": "Python 3",
   "language": "python",
   "name": "python3"
  },
  "language_info": {
   "codemirror_mode": {
    "name": "ipython",
    "version": 3
   },
   "file_extension": ".py",
   "mimetype": "text/x-python",
   "name": "python",
   "nbconvert_exporter": "python",
   "pygments_lexer": "ipython3",
   "version": "3.6.3"
  }
 },
 "nbformat": 4,
 "nbformat_minor": 2
}
